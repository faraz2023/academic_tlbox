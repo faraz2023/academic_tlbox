{
 "cells": [
  {
   "cell_type": "code",
   "execution_count": 1,
   "metadata": {},
   "outputs": [],
   "source": [
    "# full tutorial avaiable at:\n",
    "# https://www.datacamp.com/tutorial/open-ai-function-calling-tutorial"
   ]
  },
  {
   "cell_type": "code",
   "execution_count": null,
   "metadata": {},
   "outputs": [],
   "source": [
    "!pip install openai python-dotenv"
   ]
  },
  {
   "cell_type": "code",
   "execution_count": 10,
   "metadata": {},
   "outputs": [],
   "source": [
    "\n",
    "import openai\n",
    "import json\n",
    "import os\n",
    "from dotenv import load_dotenv\n",
    "\n",
    "load_dotenv()\n",
    "\n",
    "\n",
    "openai.api_key = os.getenv(\"OPENAI_API_KEY\")\n"
   ]
  },
  {
   "cell_type": "markdown",
   "metadata": {},
   "source": [
    "## Demo for OpenAI function calling (i.e., the ability to output structred data)"
   ]
  },
  {
   "cell_type": "markdown",
   "metadata": {},
   "source": [
    "## First, we define a series of functions that we what the LLM to use"
   ]
  },
  {
   "cell_type": "code",
   "execution_count": 12,
   "metadata": {},
   "outputs": [],
   "source": [
    "custom_functions = [\n",
    "    {\n",
    "        'name': 'extract_student_info',\n",
    "        'description': 'Get the student information from the body of the input text',\n",
    "        'parameters': {\n",
    "            'type': 'object',\n",
    "            'properties': {\n",
    "                'name': {\n",
    "                    'type': 'string',\n",
    "                    'description': 'Name of the person'\n",
    "                },\n",
    "                'major': {\n",
    "                    'type': 'string',\n",
    "                    'description': 'Major subject.'\n",
    "                },\n",
    "                'school': {\n",
    "                    'type': 'string',\n",
    "                    'description': 'The university name.'\n",
    "                },\n",
    "                'grades': {\n",
    "                    'type': 'integer',\n",
    "                    'description': 'GPA of the student.'\n",
    "                },\n",
    "                'club': {\n",
    "                    'type': 'string',\n",
    "                    'description': 'School club for extracurricular activities. '\n",
    "                }\n",
    "                \n",
    "            }\n",
    "        }\n",
    "    },\n",
    "    {\n",
    "        'name': 'extract_school_info',\n",
    "        'description': 'Get the school information from the body of the input text',\n",
    "        'parameters': {\n",
    "            'type': 'object',\n",
    "            'properties': {\n",
    "                'name': {\n",
    "                    'type': 'string',\n",
    "                    'description': 'Name of the school.'\n",
    "                },\n",
    "                'ranking': {\n",
    "                    'type': 'integer',\n",
    "                    'description': 'QS world ranking of the school.'\n",
    "                },\n",
    "                'country': {\n",
    "                    'type': 'string',\n",
    "                    'description': 'Country of the school.'\n",
    "                },\n",
    "                'no_of_students': {\n",
    "                    'type': 'integer',\n",
    "                    'description': 'Number of students enrolled in the school.'\n",
    "                }\n",
    "            }\n",
    "        }\n",
    "    }\n",
    "]"
   ]
  },
  {
   "cell_type": "markdown",
   "metadata": {},
   "source": [
    "## Now some potential inputs:"
   ]
  },
  {
   "cell_type": "code",
   "execution_count": 29,
   "metadata": {},
   "outputs": [],
   "source": [
    "student_1_description = \"David Nguyen is a sophomore majoring in computer science at Stanford University. He is Asian American and has a 3.8 GPA. David is known for his programming skills and is an active member of the university's Robotics Club. He hopes to pursue a career in artificial intelligence after graduating.\"\n",
    "student_2_description=\"Ravi Patel is a sophomore majoring in computer science at the University of Michigan. He is South Asian Indian American and has a 3.7 GPA. Ravi is an active member of the university's Chess Club and the South Asian Student Association. He hopes to pursue a career in software engineering after graduating.\"\n",
    "school_1_description = \"Stanford University is a private research university located in Stanford, California, United States. It was founded in 1885 by Leland Stanford and his wife, Jane Stanford, in memory of their only child, Leland Stanford Jr. The university is ranked #5 in the world by QS World University Rankings. It has over 17,000 students, including about 7,600 undergraduates and 9,500 graduates23. \"\n",
    "\n",
    "irrelevant_text = \"Tell me about the relationship between power and morality in five words.\""
   ]
  },
  {
   "cell_type": "code",
   "execution_count": 30,
   "metadata": {},
   "outputs": [],
   "source": [
    "#\n",
    "descriptions = [student_1_description, student_2_description, school_1_description, irrelevant_text]"
   ]
  },
  {
   "cell_type": "markdown",
   "metadata": {},
   "source": [
    "## Now define some functions for our application that take in structured data from the LLM and output the desired result"
   ]
  },
  {
   "cell_type": "code",
   "execution_count": 31,
   "metadata": {},
   "outputs": [],
   "source": [
    "def extract_student_info(name, major, school, grades, club):\n",
    "    \n",
    "    \"\"\"Get the student information\"\"\"\n",
    "\n",
    "    return f\"{name} is majoring in {major} at {school}. He has {grades} GPA and he is an active member of the university's {club}.\"\n",
    "\n",
    "def extract_school_info(name, ranking, country, no_of_students):\n",
    "    \n",
    "    \"\"\"Get the school information\"\"\"\n",
    "\n",
    "    return f\"{name} is located in the {country}. The university is ranked #{ranking} in the world with {no_of_students} students.\""
   ]
  },
  {
   "cell_type": "code",
   "execution_count": 32,
   "metadata": {},
   "outputs": [],
   "source": [
    "# Function names\n",
    "available_functions = {\n",
    "    \"extract_school_info\": extract_school_info,\n",
    "    \"extract_student_info\": extract_student_info\n",
    "}"
   ]
  },
  {
   "cell_type": "markdown",
   "metadata": {},
   "source": [
    "## Now Let's use OpenAI's LLM"
   ]
  },
  {
   "cell_type": "code",
   "execution_count": 33,
   "metadata": {},
   "outputs": [
    {
     "name": "stdout",
     "output_type": "stream",
     "text": [
      "Sample#1: \n",
      " \"David Nguyen is a sophomore majoring in computer science at Stanford University. He is Asian American and has a 3.8 GPA. David is known for his programming skills and is an active member of the university's Robotics Club. He hopes to pursue a career in artificial intelligence after graduating.\" \n",
      "\n",
      "\tCalling OpenAI API...\n",
      "\tResponse received!\n",
      "\tFunction call detected!\n",
      "\tFunction called: extract_student_info\n",
      "\tFunction arguments: {'name': 'David Nguyen', 'major': 'computer science', 'school': 'Stanford University', 'grades': 3.8, 'club': 'Robotics Club'}\n",
      "\tResponse: David Nguyen is majoring in computer science at Stanford University. He has 3.8 GPA and he is an active member of the university's Robotics Club.\n",
      "--------------------------------------\n",
      "Sample#2: \n",
      " \"Ravi Patel is a sophomore majoring in computer science at the University of Michigan. He is South Asian Indian American and has a 3.7 GPA. Ravi is an active member of the university's Chess Club and the South Asian Student Association. He hopes to pursue a career in software engineering after graduating.\" \n",
      "\n",
      "\tCalling OpenAI API...\n",
      "\tResponse received!\n",
      "\tFunction call detected!\n",
      "\tFunction called: extract_student_info\n",
      "\tFunction arguments: {'name': 'Ravi Patel', 'major': 'computer science', 'school': 'University of Michigan', 'grades': 3.7, 'club': 'Chess Club'}\n",
      "\tResponse: Ravi Patel is majoring in computer science at University of Michigan. He has 3.7 GPA and he is an active member of the university's Chess Club.\n",
      "--------------------------------------\n",
      "Sample#3: \n",
      " \"Stanford University is a private research university located in Stanford, California, United States. It was founded in 1885 by Leland Stanford and his wife, Jane Stanford, in memory of their only child, Leland Stanford Jr. The university is ranked #5 in the world by QS World University Rankings. It has over 17,000 students, including about 7,600 undergraduates and 9,500 graduates23. \" \n",
      "\n",
      "\tCalling OpenAI API...\n",
      "\tResponse received!\n",
      "\tFunction call detected!\n",
      "\tFunction called: extract_school_info\n",
      "\tFunction arguments: {'name': 'Stanford University', 'ranking': 5, 'country': 'United States', 'no_of_students': 17000}\n",
      "\tResponse: Stanford University is located in the United States. The university is ranked #5 in the world with 17000 students.\n",
      "--------------------------------------\n",
      "Sample#4: \n",
      " \"Tell me about the relationship between power and morality in five words.\" \n",
      "\n",
      "\tCalling OpenAI API...\n",
      "\tResponse received!\n",
      "\tNo function call detected!\n",
      "\tResponse: Complex, Controversial, Evolving, Context-dependent, Subjective\n",
      "--------------------------------------\n"
     ]
    }
   ],
   "source": [
    "\n",
    "\"\"\"\n",
    "Call OpenAI's ChatCompletion API to generate a response for each sample in the descriptions list.\n",
    "If a function call is detected in the response, it extracts the function name and arguments, and calls the corresponding function.\n",
    "Otherwise, it returns the response content.\n",
    "\"\"\"\n",
    "for i, sample in enumerate(descriptions):\n",
    "    print(f\"Sample#{i+1}: \\n \\\"{sample}\\\" \\n\")\n",
    "    print(\"\\tCalling OpenAI API...\")\n",
    "    response = openai.ChatCompletion.create(\n",
    "        model = 'gpt-3.5-turbo',\n",
    "        messages = [{'role': 'user', 'content': sample}],\n",
    "        functions = custom_functions,\n",
    "        function_call = 'auto'\n",
    "    )\n",
    "\n",
    "    response_message = response[\"choices\"][0][\"message\"]\n",
    "    print(\"\\tResponse received!\")\n",
    "\n",
    "    if response_message.get('function_call'):\n",
    "\n",
    "        print(\"\\tFunction call detected!\")\n",
    "\n",
    "        # Which function call was invoked\n",
    "        function_called = response_message['function_call']['name']\n",
    "\n",
    "        # Extracting the arguments\n",
    "        function_args  = json.loads(response_message['function_call']['arguments'])\n",
    "\n",
    "        print(f\"\\tFunction called: {function_called}\")\n",
    "        print(f\"\\tFunction arguments: {function_args}\")\n",
    "\n",
    "\n",
    "        fuction_to_call = available_functions[function_called]\n",
    "        response_message = fuction_to_call(*list(function_args .values()))\n",
    "\n",
    "    else:\n",
    "        print(\"\\tNo function call detected!\")\n",
    "        response_message = response_message['content']\n",
    "\n",
    "    print(f\"\\tResponse: {response_message}\")\n",
    "\n",
    "    print(\"--------------------------------------\")\n"
   ]
  },
  {
   "cell_type": "code",
   "execution_count": null,
   "metadata": {},
   "outputs": [],
   "source": []
  }
 ],
 "metadata": {
  "kernelspec": {
   "display_name": "CTRL",
   "language": "python",
   "name": "python3"
  },
  "language_info": {
   "codemirror_mode": {
    "name": "ipython",
    "version": 3
   },
   "file_extension": ".py",
   "mimetype": "text/x-python",
   "name": "python",
   "nbconvert_exporter": "python",
   "pygments_lexer": "ipython3",
   "version": "3.10.0"
  },
  "orig_nbformat": 4
 },
 "nbformat": 4,
 "nbformat_minor": 2
}
